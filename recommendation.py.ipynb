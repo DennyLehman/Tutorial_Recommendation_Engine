{
 "cells": [
  {
   "cell_type": "markdown",
   "metadata": {
    "collapsed": true
   },
   "source": [
    "# Why Python\n",
    "## This Jupyter Notebook covers the why python section in Programming collective intelligence\n",
    "Before covering recommendation engines, this section is a must read for python beginners."
   ]
  },
  {
   "cell_type": "code",
   "execution_count": 2,
   "metadata": {
    "collapsed": true
   },
   "outputs": [],
   "source": [
    "# Why Python\n",
    "# Concise\n",
    "    # Shorter code\n",
    "# Easy to read\n",
    "    # \"Executable pseudocode\n",
    "# Easily Extenable\n",
    "    # Comes with many libraries\n",
    "# Interactive\n",
    "    # Run programs directly from cmd\n",
    "# Multiparadigm\n",
    "    # Procedural, Functional, Object Oriented all supported\n",
    "# Multiplatform\n",
    "    # Windows, Linux, Mac\n",
    "# Free\n",
    "    # Python is open source and free to use"
   ]
  },
  {
   "cell_type": "code",
   "execution_count": 3,
   "metadata": {
    "collapsed": true
   },
   "outputs": [],
   "source": [
    "# List and Dictionaries\n",
    "# List can contain simple objects, like strings and numbers\n",
    "number_list = [1,2,3,4]\n",
    "string_list = ['a','b','c']\n",
    "mixed_list = ['a', 3, 'c', 8]\n",
    "\n",
    "# Dictionaries are like hash maps - it has a key that maps to a value. Plug in the key and the dictionary will return the value\n",
    "ages = {'Denny':28, 'Sherry':28, 'Connor':25}\n"
   ]
  },
  {
   "cell_type": "code",
   "execution_count": 32,
   "metadata": {
    "collapsed": false
   },
   "outputs": [
    {
     "data": {
      "text/plain": [
       "28"
      ]
     },
     "execution_count": 32,
     "metadata": {},
     "output_type": "execute_result"
    }
   ],
   "source": [
    "string_list[2] # returns 'c'\n",
    "ages['Sherry'] # returns 28"
   ]
  },
  {
   "cell_type": "code",
   "execution_count": 5,
   "metadata": {
    "collapsed": true
   },
   "outputs": [],
   "source": [
    "# White space is significant in python. Indentation is used to block code"
   ]
  },
  {
   "cell_type": "code",
   "execution_count": 6,
   "metadata": {
    "collapsed": false
   },
   "outputs": [
    {
     "name": "stdout",
     "output_type": "stream",
     "text": [
      "[50, 60, 70, 80, 90]\n"
     ]
    }
   ],
   "source": [
    "# List Comprehension\n",
    "# Convert one list to another with one liners\n",
    "# [expression 'for' variable 'in' list]\n",
    "# or\n",
    "# [expression 'for' variable 'in' list 'if' condition]\n",
    "l1 = [1,2,3,4,5,6,7,8,9]\n",
    "print([v*10 for v in l1 if v>4])"
   ]
  },
  {
   "cell_type": "code",
   "execution_count": 7,
   "metadata": {
    "collapsed": false
   },
   "outputs": [
    {
     "name": "stdout",
     "output_type": "stream",
     "text": [
      "{1: 10, 2: 20, 3: 30, 4: 40, 5: 50, 6: 60, 7: 70, 8: 80, 9: 90}\n"
     ]
    }
   ],
   "source": [
    "times_ten = dict([(v,v*10) for v in l1])\n",
    "print(times_ten)"
   ]
  },
  {
   "cell_type": "code",
   "execution_count": 8,
   "metadata": {
    "collapsed": true
   },
   "outputs": [],
   "source": [
    "# API = application programming interface\n",
    "# find apis on www.programmableweb.com"
   ]
  },
  {
   "cell_type": "code",
   "execution_count": 9,
   "metadata": {
    "collapsed": true
   },
   "outputs": [],
   "source": [
    "# This section shows how to make a recommendation engine for critics of movies"
   ]
  },
  {
   "cell_type": "markdown",
   "metadata": {},
   "source": [
    "# Recommendation Engine\n",
    "## A guide to creating a predictive scoring system\n",
    "\n",
    "\n",
    "Recommendation engines help the world's most popular websites serve user-specific content. Sites like Amazon and Netflix use engines everyday to undertand and predict what kind of books and movies users WILL like. And the predictions can be scarily accurate: not only can engines tell how similar an individual user is to another individual, but the results can even make predictions about how well someone will like a future product, that he/she has never even heard of. This unlocks the ability to ability to prioritize user preferred products above standard, nondistinct product. \n",
    "\n",
    "In this guide, I'll walk through the logic and code for how to see which users are similar based on their content preferences and even predict what content they are likely to enjoy next.\n",
    "\n",
    "\n",
    "And the results can be scarily accurate: not only engines tell how similar to another shopper you are, but it can even make predictions about how well you'll like a future product. Just think, you'll be able to put preferred products in front of your users rather than run of the mill items. In this guide, I'll walk through how to see which users are similar based on their content preferences and even predict what content they are likely to enjoy next.\n",
    "\n",
    "### 1. User Content\n",
    "### 2. Similarity Score\n",
    "### 3. Types of scoring\n",
    "### 4. Comparing user to the community\n",
    "\n",
    "\n",
    "Crap below:\n",
    "Recommendation engines leverage a user's past likes and dislikes to create a unique profile. Once the behavoir is captured, engines will calculate a simularity score for other users in the community, identifying users that are similar.deliver your favorite books and movies to you. These super userful tools can take a users previous behavior (ex. likes and dislikes), compare them with the user's community, and then predict whether a user will like something he/she has never seen before. \n",
    "\n",
    "\n",
    "Why do I care\n",
    "\n",
    "\n",
    "What is predictive analytics\n",
    "Predictive analytics is the science behind making educated guesses on future outcomes. Statisticians and Data Scientists use predictive analytics to estimate the outcome of a poker game, the next book you'll read, or when a solar panel breaks. \n",
    "\n",
    "can be found on the world's most popular sites netflix, amazon, and reddit. "
   ]
  },
  {
   "cell_type": "markdown",
   "metadata": {},
   "source": [
    "### 1. Content\n",
    "The magic of recommendation engines lies in the content, or data, provided to the engine. The content in question could be anything: films, tv shows, books, news articles and anything that can fit into a virtual shopping cart. Recommendation engines leverage a user's past likes and dislikes to create a unique profile, so let's create some user data and get started:"
   ]
  },
  {
   "cell_type": "code",
   "execution_count": 10,
   "metadata": {
    "collapsed": false
   },
   "outputs": [],
   "source": [
    "# A dictionary of movie critics\n",
    "critics = {'Lisa':{'Lady':2.5,'Snakes':3.5,'Just':3.0,'Superman':3.5,'You':2.5,'Night':3.0},\n",
    "           'Gene':{'Lady':3.0,'Snakes':3.5,'Just':1.5,'Superman':5.0,'Night':3.0,'You':3.5},\n",
    "           'Michael':{'Lady':2.5,'Snakes':3.0,'Superman':3.5,'Night':4.0},\n",
    "           'Claudia':{'Snakes':3.5,'Just':3.0,'Superman':4.0,'You':2.5,'Night':4.5},\n",
    "           'Nick':{'Lady':3.0,'Snakes':4.0,'Just':2.0,'Superman':3.0,'You':2.0,'Night':3.0},\n",
    "           'Jack':{'Lady':3.0,'Snakes':4.0,'Superman':5.0,'You':3.5,'Night':3.0},\n",
    "           'Toby':{'Snakes':4.5,'Superman':4.0,'You':1.0}}"
   ]
  },
  {
   "cell_type": "code",
   "execution_count": 11,
   "metadata": {
    "collapsed": false
   },
   "outputs": [
    {
     "name": "stdout",
     "output_type": "stream",
     "text": [
      "{'Snakes': 4.5, 'You': 1.0, 'Superman': 4.0}\n"
     ]
    }
   ],
   "source": [
    "print(critics['Toby'])"
   ]
  },
  {
   "cell_type": "markdown",
   "metadata": {},
   "source": [
    "### 2. Similarity Scoring\n",
    "Once user behavior is captured, engines will need to compare a two users together to discover any similar preferences. To get the similarity score, an algorithm is selected to score the two users. There are many scoring systems for similarity (for a full list, search here), but in this tutorial, our engine will be provided with 3 base options: Eucliadian Distance, Pearson R, and Manhattan. Each algorithm will take two users and each item the users have in common is scored. After summing all of the calculations, the score is normalized, normally between 1 (identical behavoir) 0 (no correlation), and -1 (opposite behavior).\n",
    "\n",
    "The score  that is produced for how similar Engines will calculate a simularity score for other users in the community, identifying users that are similar. deliver your favorite books and movies to you. These super userful tools can take a users previous behavior (ex. likes and dislikes), compare them with the user's community, and then predict whether a user will like something he/she has never seen before. "
   ]
  },
  {
   "cell_type": "code",
   "execution_count": 12,
   "metadata": {
    "collapsed": true
   },
   "outputs": [],
   "source": [
    "# Euclidian distance score\n",
    "# One method for finding the similarity of people's preferences is through the distance formula on a numeric rating system\n",
    "# d = sqrt [(x2 - x1)**2 + (y2 - y1)**2]"
   ]
  },
  {
   "cell_type": "code",
   "execution_count": 13,
   "metadata": {
    "collapsed": true
   },
   "outputs": [],
   "source": [
    "from math import sqrt\n",
    "\n",
    "def sim_distance(prefs,person1,person2):\n",
    "    shared_items = {}\n",
    "    for item in prefs[person1]:\n",
    "        if item in prefs[person2]:\n",
    "            shared_items[item] = 1\n",
    "            \n",
    "    # condition no match\n",
    "    # if no matches, exit the function\n",
    "    if len(shared_items) == 0:\n",
    "        return 0\n",
    "    \n",
    "    # sum of squares\n",
    "    sum_of_squares = sum([pow(prefs[person1][item] - prefs[person2][item],2) for item in shared_items])\n",
    "    return 1/(1+sum_of_squares)"
   ]
  },
  {
   "cell_type": "code",
   "execution_count": 14,
   "metadata": {
    "collapsed": false
   },
   "outputs": [
    {
     "data": {
      "text/plain": [
       "0.14814814814814814"
      ]
     },
     "execution_count": 14,
     "metadata": {},
     "output_type": "execute_result"
    }
   ],
   "source": [
    "sim_distance(critics,'Lisa','Gene')\n",
    "# 0.148"
   ]
  },
  {
   "cell_type": "code",
   "execution_count": 15,
   "metadata": {
    "collapsed": true
   },
   "outputs": [],
   "source": [
    "def sim_pearson(prefs, person1,person2):\n",
    "    shared_items = {}\n",
    "    for item in prefs[person1]:\n",
    "        if item in prefs[person2]:\n",
    "            shared_items[item]=1\n",
    "    \n",
    "    n = len(shared_items)\n",
    "    \n",
    "    if n == 0:\n",
    "        return 0\n",
    "    \n",
    "    sum1 = sum(prefs[person1][item] for item in shared_items)\n",
    "    sum2 = sum(prefs[person2][item] for item in shared_items)\n",
    "    \n",
    "    # sum the squares\n",
    "    sum1sq = sum([pow(prefs[person1][item],2) for item in shared_items])\n",
    "    sum2sq = sum([pow(prefs[person2][item],2) for item in shared_items])\n",
    "    \n",
    "    # sum products\n",
    "    pSum = sum([prefs[person1][item]*prefs[person2][item] for item in shared_items])\n",
    "    \n",
    "    # calculate Pearson score\n",
    "    num = pSum - (sum1 * sum2 / n)\n",
    "    den = sqrt((sum1sq - pow(sum1,2)/n) * (sum2sq - pow(sum2,2)/n))\n",
    "    if den == 0:\n",
    "        return 0\n",
    "    r = num / den\n",
    "    return r"
   ]
  },
  {
   "cell_type": "code",
   "execution_count": 16,
   "metadata": {
    "collapsed": false
   },
   "outputs": [
    {
     "data": {
      "text/plain": [
       "-1.0"
      ]
     },
     "execution_count": 16,
     "metadata": {},
     "output_type": "execute_result"
    }
   ],
   "source": [
    "sim_pearson(critics, 'Lisa','Gene')\n",
    "# 0.39606\n",
    "sim_pearson(critics,'Michael','Toby')"
   ]
  },
  {
   "cell_type": "code",
   "execution_count": 64,
   "metadata": {
    "collapsed": true
   },
   "outputs": [],
   "source": [
    "# Manhattan distance\n",
    "# This scoring system is also called taxi distance. It assumes that the shortest distance between two points is the \n",
    "# sum of the difference in it's coordinates. The scoring system is reminiscient of a taxi traveling across \n",
    "# city blocks in Manhattan. For d(x,y) = abs(x2 - x1) + abs(y2 - y1)"
   ]
  },
  {
   "cell_type": "code",
   "execution_count": 61,
   "metadata": {
    "collapsed": false
   },
   "outputs": [],
   "source": [
    "def sim_manhattan(prefs, person1, person2):\n",
    "    \n",
    "    shared_items = {}\n",
    "    r = 0\n",
    "    # max\n",
    "    for p in prefs:\n",
    "        max_score = max([prefs[p][item] for item in prefs[p]])\n",
    "    # max_score = max([prefs[p][item] for p in prefs, for item in prefs[p]])\n",
    "    # identify all matching items\n",
    "    print(max_score)\n",
    "    for item in prefs[person1]:\n",
    "        if item in prefs[person2]:\n",
    "            shared_items[item] = 1\n",
    "    \n",
    "    # score = coordinate 1 + coordinate 2\n",
    "    for item in shared_items:\n",
    "        r += abs(prefs[person1][item] - prefs[person2][item])\n",
    "    \n",
    "    # That sugar...\n",
    "    # r = sum(abs([prefs[person1][item] - prefs[person2][item]) for item in shared_items])\n",
    "    \n",
    "    # return normalized version\n",
    "    return 1/(1+r)"
   ]
  },
  {
   "cell_type": "code",
   "execution_count": 62,
   "metadata": {
    "collapsed": false
   },
   "outputs": [
    {
     "data": {
      "text/plain": [
       "{'Snakes': 4.5, 'Superman': 4.0, 'You': 1.0}"
      ]
     },
     "execution_count": 62,
     "metadata": {},
     "output_type": "execute_result"
    }
   ],
   "source": [
    "critics['Toby']"
   ]
  },
  {
   "cell_type": "code",
   "execution_count": 63,
   "metadata": {
    "collapsed": false
   },
   "outputs": [
    {
     "name": "stdout",
     "output_type": "stream",
     "text": [
      "4.5\n"
     ]
    },
    {
     "data": {
      "text/plain": [
       "0.18181818181818182"
      ]
     },
     "execution_count": 63,
     "metadata": {},
     "output_type": "execute_result"
    }
   ],
   "source": [
    "sim_manhattan(critics,'Gene','Toby')"
   ]
  },
  {
   "cell_type": "markdown",
   "metadata": {},
   "source": [
    "### Similarity to a group\n",
    "In this section, we compare compare one user to the group and log the user's similarity score compared to each other person in the group. \n",
    "Then, we order the results by most similar person to least similar person."
   ]
  },
  {
   "cell_type": "code",
   "execution_count": 17,
   "metadata": {
    "collapsed": true
   },
   "outputs": [],
   "source": [
    "# This function takes the similarity score and applies it to all the critics\n",
    "# The user selects the critic to test and the type of similarity score to apply"
   ]
  },
  {
   "cell_type": "code",
   "execution_count": 18,
   "metadata": {
    "collapsed": true
   },
   "outputs": [],
   "source": [
    "def topMatches(prefs,person,n=5,similarity=sim_pearson):\n",
    "    # create a list of [(score, person)]\n",
    "    # do it for every critic not the one being tested\n",
    "    s = [(similarity(prefs,person,other), other) for other in prefs if other != person]\n",
    "    \n",
    "    # sort the list to put highest scores at the top\n",
    "    s.sort()\n",
    "    s.reverse( )\n",
    "    return s[0:n]"
   ]
  },
  {
   "cell_type": "code",
   "execution_count": 19,
   "metadata": {
    "collapsed": false
   },
   "outputs": [
    {
     "data": {
      "text/plain": [
       "[(0.9912407071619299, 'Toby'),\n",
       " (0.7470178808339965, 'Jack'),\n",
       " (0.5940885257860044, 'Nick'),\n",
       " (0.5669467095138396, 'Claudia'),\n",
       " (0.40451991747794525, 'Michael')]"
      ]
     },
     "execution_count": 19,
     "metadata": {},
     "output_type": "execute_result"
    }
   ],
   "source": [
    "# uses the default top 5 outcomes with default similarity (pearsons r)\n",
    "topMatches(critics,'Lisa')"
   ]
  },
  {
   "cell_type": "code",
   "execution_count": 20,
   "metadata": {
    "collapsed": false
   },
   "outputs": [
    {
     "data": {
      "text/plain": [
       "[(0.3333333333333333, 'Lisa'), (0.3076923076923077, 'Toby')]"
      ]
     },
     "execution_count": 20,
     "metadata": {},
     "output_type": "execute_result"
    }
   ],
   "source": [
    "topMatches(critics, 'Nick', n=2, similarity=sim_distance)"
   ]
  },
  {
   "cell_type": "code",
   "execution_count": 21,
   "metadata": {
    "collapsed": true
   },
   "outputs": [],
   "source": [
    "# The top matches selects the critic most like the person, however there is a way to calculate the users predicted score \n",
    "# of a movie they havent seen. The best way to do this is to harness the critiques of all the movie goers\n",
    "# and give their scores a weight by how similar they are to the person of interest."
   ]
  },
  {
   "cell_type": "code",
   "execution_count": 22,
   "metadata": {
    "collapsed": false
   },
   "outputs": [
    {
     "data": {
      "text/plain": [
       "-1.0"
      ]
     },
     "execution_count": 22,
     "metadata": {},
     "output_type": "execute_result"
    }
   ],
   "source": [
    "sim_pearson(critics,'Toby','Michael')"
   ]
  },
  {
   "cell_type": "code",
   "execution_count": 23,
   "metadata": {
    "collapsed": true
   },
   "outputs": [],
   "source": [
    "# A dictionary of movie critics\n",
    "critics = {'Lisa':{'Lady':2.5,'Snakes':3.5,'Just':3.0,'Superman':3.5,'You':2.5,'Night':3.0},\n",
    "           'Gene':{'Lady':3.0,'Snakes':3.5,'Just':1.5,'Superman':5.0,'Night':3.0,'You':3.5},\n",
    "           'Claudia':{'Snakes':3.5,'Just':3.0,'Superman':4.0,'You':2.5,'Night':4.5},\n",
    "           'Nick':{'Lady':3.0,'Snakes':4.0,'Just':2.0,'Superman':3.0,'You':2.0,'Night':3.0},\n",
    "           'Jack':{'Lady':3.0,'Snakes':4.0,'Superman':5.0,'You':3.5,'Night':3.0},\n",
    "           'Toby':{'Snakes':4.5,'Superman':4.0,'You':1.0}}"
   ]
  },
  {
   "cell_type": "code",
   "execution_count": 24,
   "metadata": {
    "collapsed": false
   },
   "outputs": [],
   "source": [
    "def predict_score(prefs, person, title, similarity=sim_pearson):\n",
    "    total_sim = 0\n",
    "    total_score = 0\n",
    "    \n",
    "    for other in prefs:\n",
    "        if other != person:\n",
    "            # print(str(other) + ' s trial...')\n",
    "            try:\n",
    "                review_score = prefs[other][title]\n",
    "                # print('review score for ' + str(other) + ' is ' + str(review_score))\n",
    "                similarity_score = similarity(prefs,person,other)\n",
    "                # print('similarity score is ' + str(similarity_score))\n",
    "            except:\n",
    "                # print(str(other) + ' didnt have a rating for ' + str(title))\n",
    "                similarity_score = 0\n",
    "                review_score = 0\n",
    "            total_score = total_score + (review_score * similarity_score)\n",
    "            total_sim = total_sim + similarity_score\n",
    "    return total_score / total_sim\n",
    "    #return [total_score, total_sim, total_score / total_sim]\n",
    "    "
   ]
  },
  {
   "cell_type": "code",
   "execution_count": 25,
   "metadata": {
    "collapsed": false
   },
   "outputs": [
    {
     "data": {
      "text/plain": [
       "2.8325499182641614"
      ]
     },
     "execution_count": 25,
     "metadata": {},
     "output_type": "execute_result"
    }
   ],
   "source": [
    "predict_score(critics, 'Toby', 'Lady')"
   ]
  },
  {
   "cell_type": "code",
   "execution_count": 26,
   "metadata": {
    "collapsed": false
   },
   "outputs": [],
   "source": [
    "def predict_all_scores(prefs,person,similarity=sim_pearson):\n",
    "    total_sim = {} \n",
    "    total_score = {}\n",
    "    \n",
    "    for other in prefs:\n",
    "        if other != person:\n",
    "            sim = similarity(prefs, person, other)\n",
    "            \n",
    "            if sim <= 0: continue\n",
    "            \n",
    "            # loop through all items\n",
    "            for item in prefs[other]:\n",
    "                # print('Searcing for scores from ' + str(other) + ' for item ' + str(item))\n",
    "                if item not in prefs[person] or prefs[person][item] > 0:\n",
    "                    score = prefs[other][item]\n",
    "                    total_sim.setdefault(item,0)\n",
    "                    total_sim[item] += sim\n",
    "                    total_score.setdefault(item,0)\n",
    "                    total_score[item] += score * sim\n",
    "    rankings = [(total_score[item]/total_sim[item], item) for item in total_score]\n",
    "    rankings.sort()\n",
    "    rankings.reverse()\n",
    "    \n",
    "    return rankings\n",
    "                    \n",
    "    "
   ]
  },
  {
   "cell_type": "code",
   "execution_count": 27,
   "metadata": {
    "collapsed": false
   },
   "outputs": [
    {
     "data": {
      "text/plain": [
       "[(3.9024195568915734, 'Superman'),\n",
       " (3.7059737842895792, 'Snakes'),\n",
       " (3.3477895267131013, 'Night'),\n",
       " (2.8325499182641614, 'Lady'),\n",
       " (2.6510060362046266, 'You'),\n",
       " (2.5309807037655645, 'Just')]"
      ]
     },
     "execution_count": 27,
     "metadata": {},
     "output_type": "execute_result"
    }
   ],
   "source": [
    "predict_all_scores(critics, 'Toby')"
   ]
  },
  {
   "cell_type": "code",
   "execution_count": 29,
   "metadata": {
    "collapsed": false
   },
   "outputs": [],
   "source": [
    "def transformPrefs(prefs):\n",
    "    final = {}\n",
    "    for person in prefs:\n",
    "        for item in prefs[person]:\n",
    "            final.setdefault(item,{})\n",
    "            final[item][person] = prefs[person][item]\n",
    "    return final"
   ]
  },
  {
   "cell_type": "code",
   "execution_count": 30,
   "metadata": {
    "collapsed": false
   },
   "outputs": [],
   "source": [
    "movies = transformPrefs(critics)"
   ]
  },
  {
   "cell_type": "code",
   "execution_count": 31,
   "metadata": {
    "collapsed": false
   },
   "outputs": [
    {
     "data": {
      "text/plain": [
       "{'Just': {'Claudia': 3.0, 'Gene': 1.5, 'Lisa': 3.0, 'Nick': 2.0},\n",
       " 'Lady': {'Gene': 3.0, 'Jack': 3.0, 'Lisa': 2.5, 'Nick': 3.0},\n",
       " 'Night': {'Claudia': 4.5, 'Gene': 3.0, 'Jack': 3.0, 'Lisa': 3.0, 'Nick': 3.0},\n",
       " 'Snakes': {'Claudia': 3.5,\n",
       "  'Gene': 3.5,\n",
       "  'Jack': 4.0,\n",
       "  'Lisa': 3.5,\n",
       "  'Nick': 4.0,\n",
       "  'Toby': 4.5},\n",
       " 'Superman': {'Claudia': 4.0,\n",
       "  'Gene': 5.0,\n",
       "  'Jack': 5.0,\n",
       "  'Lisa': 3.5,\n",
       "  'Nick': 3.0,\n",
       "  'Toby': 4.0},\n",
       " 'You': {'Claudia': 2.5,\n",
       "  'Gene': 3.5,\n",
       "  'Jack': 3.5,\n",
       "  'Lisa': 2.5,\n",
       "  'Nick': 2.0,\n",
       "  'Toby': 1.0}}"
      ]
     },
     "execution_count": 31,
     "metadata": {},
     "output_type": "execute_result"
    }
   ],
   "source": [
    "movies"
   ]
  },
  {
   "cell_type": "code",
   "execution_count": null,
   "metadata": {
    "collapsed": true
   },
   "outputs": [],
   "source": []
  },
  {
   "cell_type": "code",
   "execution_count": null,
   "metadata": {
    "collapsed": true
   },
   "outputs": [],
   "source": []
  },
  {
   "cell_type": "code",
   "execution_count": null,
   "metadata": {
    "collapsed": true
   },
   "outputs": [],
   "source": []
  },
  {
   "cell_type": "code",
   "execution_count": null,
   "metadata": {
    "collapsed": true
   },
   "outputs": [],
   "source": []
  },
  {
   "cell_type": "code",
   "execution_count": null,
   "metadata": {
    "collapsed": true
   },
   "outputs": [],
   "source": []
  }
 ],
 "metadata": {
  "anaconda-cloud": {},
  "kernelspec": {
   "display_name": "Python [conda root]",
   "language": "python",
   "name": "conda-root-py"
  },
  "language_info": {
   "codemirror_mode": {
    "name": "ipython",
    "version": 3
   },
   "file_extension": ".py",
   "mimetype": "text/x-python",
   "name": "python",
   "nbconvert_exporter": "python",
   "pygments_lexer": "ipython3",
   "version": "3.5.2"
  }
 },
 "nbformat": 4,
 "nbformat_minor": 1
}
